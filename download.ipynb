{
 "cells": [
  {
   "cell_type": "code",
   "execution_count": 23,
   "metadata": {},
   "outputs": [],
   "source": [
    "import boto3\n",
    "import boto3.session\n",
    "import os\n",
    "\n",
    "\n",
    "class Downloader:\n",
    "    def __init__(self):\n",
    "        '''\n",
    "        bucket_name: s3 bucket to store in\n",
    "        '''\n",
    "        self.client = boto3.client('s3')\n",
    "        self.bucket_name = 'asrapp'\n",
    "        self.session = boto3.session.Session()\n",
    "        self.s3 = self.session.resource('s3')\n",
    "        self.bucket = self.s3.Bucket(self.bucket_name)\n",
    "\n",
    "    def download_dir(self, remote_directory):\n",
    "        '''\n",
    "        remote_directory: folder name in s3 bucket\n",
    "        '''\n",
    "        bucket = self.bucket\n",
    "        counter = 0\n",
    "        for obj in bucket.objects.filter(Prefix=remote_directory):\n",
    "            \n",
    "            if not os.path.exists(os.path.dirname(obj.key)):\n",
    "                os.makedirs(os.path.dirname(obj.key))\n",
    "            \n",
    "            if '.' not in obj.key:\n",
    "                continue\n",
    "                \n",
    "            counter += 1\n",
    "            if counter > 10:\n",
    "                break\n",
    "            bucket.download_file(obj.key, obj.key)  # save to same path"
   ]
  },
  {
   "cell_type": "code",
   "execution_count": 24,
   "metadata": {},
   "outputs": [],
   "source": [
    "downloader = Downloader()"
   ]
  },
  {
   "cell_type": "code",
   "execution_count": 25,
   "metadata": {},
   "outputs": [],
   "source": [
    "downloader.download_dir(\"nolan/\")"
   ]
  },
  {
   "cell_type": "code",
   "execution_count": null,
   "metadata": {},
   "outputs": [],
   "source": []
  }
 ],
 "metadata": {
  "kernelspec": {
   "display_name": "Python 3",
   "language": "python",
   "name": "python3"
  },
  "language_info": {
   "codemirror_mode": {
    "name": "ipython",
    "version": 3
   },
   "file_extension": ".py",
   "mimetype": "text/x-python",
   "name": "python",
   "nbconvert_exporter": "python",
   "pygments_lexer": "ipython3",
   "version": "3.8.3"
  }
 },
 "nbformat": 4,
 "nbformat_minor": 4
}
